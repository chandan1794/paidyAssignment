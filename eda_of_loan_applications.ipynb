{
 "cells": [
  {
   "cell_type": "markdown",
   "id": "ffeed3c2",
   "metadata": {},
   "source": [
    "# To determine if an application can be a defaulter.\n",
    "### Target column: SeriousDlqin2yrs"
   ]
  },
  {
   "cell_type": "code",
   "execution_count": 1,
   "id": "5bfa3a33",
   "metadata": {},
   "outputs": [],
   "source": [
    "import pandas as pd\n",
    "import numpy as np\n",
    "import seaborn as sns\n",
    "from scipy import stats\n",
    "import matplotlib.pyplot as plt"
   ]
  },
  {
   "cell_type": "code",
   "execution_count": 2,
   "id": "f15d1e93",
   "metadata": {},
   "outputs": [],
   "source": [
    "data_file = \"sample_data.csv\""
   ]
  },
  {
   "cell_type": "markdown",
   "id": "d5449df0",
   "metadata": {},
   "source": [
    "## Reading the data file\n",
    "\n",
    "First column is acting more like a unique key in this case\n",
    "Each row represent a singel loan application"
   ]
  },
  {
   "cell_type": "code",
   "execution_count": 3,
   "id": "5d5db6c6",
   "metadata": {},
   "outputs": [],
   "source": [
    "df = pd.read_csv(data_file, index_col=0)"
   ]
  },
  {
   "cell_type": "code",
   "execution_count": 4,
   "id": "6150a689",
   "metadata": {},
   "outputs": [
    {
     "data": {
      "text/html": [
       "<div>\n",
       "<style scoped>\n",
       "    .dataframe tbody tr th:only-of-type {\n",
       "        vertical-align: middle;\n",
       "    }\n",
       "\n",
       "    .dataframe tbody tr th {\n",
       "        vertical-align: top;\n",
       "    }\n",
       "\n",
       "    .dataframe thead th {\n",
       "        text-align: right;\n",
       "    }\n",
       "</style>\n",
       "<table border=\"1\" class=\"dataframe\">\n",
       "  <thead>\n",
       "    <tr style=\"text-align: right;\">\n",
       "      <th></th>\n",
       "      <th>SeriousDlqin2yrs</th>\n",
       "      <th>RevolvingUtilizationOfUnsecuredLines</th>\n",
       "      <th>age</th>\n",
       "      <th>NumberOfTime30-59DaysPastDueNotWorse</th>\n",
       "      <th>DebtRatio</th>\n",
       "      <th>MonthlyIncome</th>\n",
       "      <th>NumberOfOpenCreditLinesAndLoans</th>\n",
       "      <th>NumberOfTimes90DaysLate</th>\n",
       "      <th>NumberRealEstateLoansOrLines</th>\n",
       "      <th>NumberOfTime60-89DaysPastDueNotWorse</th>\n",
       "      <th>NumberOfDependents</th>\n",
       "    </tr>\n",
       "  </thead>\n",
       "  <tbody>\n",
       "    <tr>\n",
       "      <th>1</th>\n",
       "      <td>1</td>\n",
       "      <td>0.766127</td>\n",
       "      <td>45</td>\n",
       "      <td>2</td>\n",
       "      <td>0.802982</td>\n",
       "      <td>9120.0</td>\n",
       "      <td>13</td>\n",
       "      <td>0</td>\n",
       "      <td>6</td>\n",
       "      <td>0</td>\n",
       "      <td>2.0</td>\n",
       "    </tr>\n",
       "    <tr>\n",
       "      <th>2</th>\n",
       "      <td>0</td>\n",
       "      <td>0.957151</td>\n",
       "      <td>40</td>\n",
       "      <td>0</td>\n",
       "      <td>0.121876</td>\n",
       "      <td>2600.0</td>\n",
       "      <td>4</td>\n",
       "      <td>0</td>\n",
       "      <td>0</td>\n",
       "      <td>0</td>\n",
       "      <td>1.0</td>\n",
       "    </tr>\n",
       "    <tr>\n",
       "      <th>3</th>\n",
       "      <td>0</td>\n",
       "      <td>0.658180</td>\n",
       "      <td>38</td>\n",
       "      <td>1</td>\n",
       "      <td>0.085113</td>\n",
       "      <td>3042.0</td>\n",
       "      <td>2</td>\n",
       "      <td>1</td>\n",
       "      <td>0</td>\n",
       "      <td>0</td>\n",
       "      <td>0.0</td>\n",
       "    </tr>\n",
       "    <tr>\n",
       "      <th>4</th>\n",
       "      <td>0</td>\n",
       "      <td>0.233810</td>\n",
       "      <td>30</td>\n",
       "      <td>0</td>\n",
       "      <td>0.036050</td>\n",
       "      <td>3300.0</td>\n",
       "      <td>5</td>\n",
       "      <td>0</td>\n",
       "      <td>0</td>\n",
       "      <td>0</td>\n",
       "      <td>0.0</td>\n",
       "    </tr>\n",
       "    <tr>\n",
       "      <th>5</th>\n",
       "      <td>0</td>\n",
       "      <td>0.907239</td>\n",
       "      <td>49</td>\n",
       "      <td>1</td>\n",
       "      <td>0.024926</td>\n",
       "      <td>63588.0</td>\n",
       "      <td>7</td>\n",
       "      <td>0</td>\n",
       "      <td>1</td>\n",
       "      <td>0</td>\n",
       "      <td>0.0</td>\n",
       "    </tr>\n",
       "  </tbody>\n",
       "</table>\n",
       "</div>"
      ],
      "text/plain": [
       "   SeriousDlqin2yrs  RevolvingUtilizationOfUnsecuredLines  age  \\\n",
       "1                 1                              0.766127   45   \n",
       "2                 0                              0.957151   40   \n",
       "3                 0                              0.658180   38   \n",
       "4                 0                              0.233810   30   \n",
       "5                 0                              0.907239   49   \n",
       "\n",
       "   NumberOfTime30-59DaysPastDueNotWorse  DebtRatio  MonthlyIncome  \\\n",
       "1                                     2   0.802982         9120.0   \n",
       "2                                     0   0.121876         2600.0   \n",
       "3                                     1   0.085113         3042.0   \n",
       "4                                     0   0.036050         3300.0   \n",
       "5                                     1   0.024926        63588.0   \n",
       "\n",
       "   NumberOfOpenCreditLinesAndLoans  NumberOfTimes90DaysLate  \\\n",
       "1                               13                        0   \n",
       "2                                4                        0   \n",
       "3                                2                        1   \n",
       "4                                5                        0   \n",
       "5                                7                        0   \n",
       "\n",
       "   NumberRealEstateLoansOrLines  NumberOfTime60-89DaysPastDueNotWorse  \\\n",
       "1                             6                                     0   \n",
       "2                             0                                     0   \n",
       "3                             0                                     0   \n",
       "4                             0                                     0   \n",
       "5                             1                                     0   \n",
       "\n",
       "   NumberOfDependents  \n",
       "1                 2.0  \n",
       "2                 1.0  \n",
       "3                 0.0  \n",
       "4                 0.0  \n",
       "5                 0.0  "
      ]
     },
     "execution_count": 4,
     "metadata": {},
     "output_type": "execute_result"
    }
   ],
   "source": [
    "df.head(5)"
   ]
  },
  {
   "cell_type": "markdown",
   "id": "51024bf5",
   "metadata": {},
   "source": [
    "## Data Types\n",
    "Below is the description of all the columns we have.\n",
    "\n",
    "There are total of 11 data columns and all are **Numerical Columns** i.e either **INTEGER** or **FLOAT** type. There are no **Categorical Columns** present in the data."
   ]
  },
  {
   "cell_type": "markdown",
   "id": "5fb45bbc",
   "metadata": {},
   "source": [
    "#### The intended data types are following\n",
    "\n",
    "| Variable Name                        | Type    |\n",
    "|--------------------------------------|---------|\n",
    "| SeriousDlqin2yrs                     | Integer |\n",
    "| RevolvingUtilizationOfUnsecuredLines | Float   |\n",
    "| age                                  | Integer |\n",
    "| NumberOfTime30-59DaysPastDueNotWorse | Integer |\n",
    "| DebtRatio                            | Float   |\n",
    "| MonthlyIncome                        | Float   |\n",
    "| NumberOfOpenCreditLinesAndLoans      | Integer |\n",
    "| NumberOfTimes90DaysLate              | Integer |\n",
    "| NumberRealEstateLoansOrLines         | Integer |\n",
    "| NumberOfTime60-89DaysPastDueNotWorse | Integer |\n",
    "| NumberOfDependents                   | Integer |"
   ]
  },
  {
   "cell_type": "code",
   "execution_count": 5,
   "id": "05e3090c",
   "metadata": {
    "scrolled": true
   },
   "outputs": [
    {
     "data": {
      "text/plain": [
       "SeriousDlqin2yrs                          int64\n",
       "RevolvingUtilizationOfUnsecuredLines    float64\n",
       "age                                       int64\n",
       "NumberOfTime30-59DaysPastDueNotWorse      int64\n",
       "DebtRatio                               float64\n",
       "MonthlyIncome                           float64\n",
       "NumberOfOpenCreditLinesAndLoans           int64\n",
       "NumberOfTimes90DaysLate                   int64\n",
       "NumberRealEstateLoansOrLines              int64\n",
       "NumberOfTime60-89DaysPastDueNotWorse      int64\n",
       "NumberOfDependents                      float64\n",
       "dtype: object"
      ]
     },
     "execution_count": 5,
     "metadata": {},
     "output_type": "execute_result"
    }
   ],
   "source": [
    "df.dtypes"
   ]
  },
  {
   "cell_type": "markdown",
   "id": "d07a026f",
   "metadata": {},
   "source": [
    "> As you can see the datatype for **NumberOfDependents** is not matching with intended. We will fix that later."
   ]
  },
  {
   "cell_type": "markdown",
   "id": "a6b0df0c",
   "metadata": {},
   "source": [
    "## Some description related to the data"
   ]
  },
  {
   "cell_type": "code",
   "execution_count": 6,
   "id": "8aed11ff",
   "metadata": {},
   "outputs": [
    {
     "data": {
      "text/html": [
       "<div>\n",
       "<style scoped>\n",
       "    .dataframe tbody tr th:only-of-type {\n",
       "        vertical-align: middle;\n",
       "    }\n",
       "\n",
       "    .dataframe tbody tr th {\n",
       "        vertical-align: top;\n",
       "    }\n",
       "\n",
       "    .dataframe thead th {\n",
       "        text-align: right;\n",
       "    }\n",
       "</style>\n",
       "<table border=\"1\" class=\"dataframe\">\n",
       "  <thead>\n",
       "    <tr style=\"text-align: right;\">\n",
       "      <th></th>\n",
       "      <th>SeriousDlqin2yrs</th>\n",
       "      <th>RevolvingUtilizationOfUnsecuredLines</th>\n",
       "      <th>age</th>\n",
       "      <th>NumberOfTime30-59DaysPastDueNotWorse</th>\n",
       "      <th>DebtRatio</th>\n",
       "      <th>MonthlyIncome</th>\n",
       "      <th>NumberOfOpenCreditLinesAndLoans</th>\n",
       "      <th>NumberOfTimes90DaysLate</th>\n",
       "      <th>NumberRealEstateLoansOrLines</th>\n",
       "      <th>NumberOfTime60-89DaysPastDueNotWorse</th>\n",
       "      <th>NumberOfDependents</th>\n",
       "    </tr>\n",
       "  </thead>\n",
       "  <tbody>\n",
       "    <tr>\n",
       "      <th>count</th>\n",
       "      <td>150000.000000</td>\n",
       "      <td>150000.000000</td>\n",
       "      <td>150000.000000</td>\n",
       "      <td>150000.000000</td>\n",
       "      <td>150000.000000</td>\n",
       "      <td>1.202690e+05</td>\n",
       "      <td>150000.000000</td>\n",
       "      <td>150000.000000</td>\n",
       "      <td>150000.000000</td>\n",
       "      <td>150000.000000</td>\n",
       "      <td>146076.000000</td>\n",
       "    </tr>\n",
       "    <tr>\n",
       "      <th>mean</th>\n",
       "      <td>0.066840</td>\n",
       "      <td>6.048438</td>\n",
       "      <td>52.295207</td>\n",
       "      <td>0.421033</td>\n",
       "      <td>353.005076</td>\n",
       "      <td>6.670221e+03</td>\n",
       "      <td>8.452760</td>\n",
       "      <td>0.265973</td>\n",
       "      <td>1.018240</td>\n",
       "      <td>0.240387</td>\n",
       "      <td>0.757222</td>\n",
       "    </tr>\n",
       "    <tr>\n",
       "      <th>std</th>\n",
       "      <td>0.249746</td>\n",
       "      <td>249.755371</td>\n",
       "      <td>14.771866</td>\n",
       "      <td>4.192781</td>\n",
       "      <td>2037.818523</td>\n",
       "      <td>1.438467e+04</td>\n",
       "      <td>5.145951</td>\n",
       "      <td>4.169304</td>\n",
       "      <td>1.129771</td>\n",
       "      <td>4.155179</td>\n",
       "      <td>1.115086</td>\n",
       "    </tr>\n",
       "    <tr>\n",
       "      <th>min</th>\n",
       "      <td>0.000000</td>\n",
       "      <td>0.000000</td>\n",
       "      <td>0.000000</td>\n",
       "      <td>0.000000</td>\n",
       "      <td>0.000000</td>\n",
       "      <td>0.000000e+00</td>\n",
       "      <td>0.000000</td>\n",
       "      <td>0.000000</td>\n",
       "      <td>0.000000</td>\n",
       "      <td>0.000000</td>\n",
       "      <td>0.000000</td>\n",
       "    </tr>\n",
       "    <tr>\n",
       "      <th>25%</th>\n",
       "      <td>0.000000</td>\n",
       "      <td>0.029867</td>\n",
       "      <td>41.000000</td>\n",
       "      <td>0.000000</td>\n",
       "      <td>0.175074</td>\n",
       "      <td>3.400000e+03</td>\n",
       "      <td>5.000000</td>\n",
       "      <td>0.000000</td>\n",
       "      <td>0.000000</td>\n",
       "      <td>0.000000</td>\n",
       "      <td>0.000000</td>\n",
       "    </tr>\n",
       "    <tr>\n",
       "      <th>50%</th>\n",
       "      <td>0.000000</td>\n",
       "      <td>0.154181</td>\n",
       "      <td>52.000000</td>\n",
       "      <td>0.000000</td>\n",
       "      <td>0.366508</td>\n",
       "      <td>5.400000e+03</td>\n",
       "      <td>8.000000</td>\n",
       "      <td>0.000000</td>\n",
       "      <td>1.000000</td>\n",
       "      <td>0.000000</td>\n",
       "      <td>0.000000</td>\n",
       "    </tr>\n",
       "    <tr>\n",
       "      <th>75%</th>\n",
       "      <td>0.000000</td>\n",
       "      <td>0.559046</td>\n",
       "      <td>63.000000</td>\n",
       "      <td>0.000000</td>\n",
       "      <td>0.868254</td>\n",
       "      <td>8.249000e+03</td>\n",
       "      <td>11.000000</td>\n",
       "      <td>0.000000</td>\n",
       "      <td>2.000000</td>\n",
       "      <td>0.000000</td>\n",
       "      <td>1.000000</td>\n",
       "    </tr>\n",
       "    <tr>\n",
       "      <th>max</th>\n",
       "      <td>1.000000</td>\n",
       "      <td>50708.000000</td>\n",
       "      <td>109.000000</td>\n",
       "      <td>98.000000</td>\n",
       "      <td>329664.000000</td>\n",
       "      <td>3.008750e+06</td>\n",
       "      <td>58.000000</td>\n",
       "      <td>98.000000</td>\n",
       "      <td>54.000000</td>\n",
       "      <td>98.000000</td>\n",
       "      <td>20.000000</td>\n",
       "    </tr>\n",
       "  </tbody>\n",
       "</table>\n",
       "</div>"
      ],
      "text/plain": [
       "       SeriousDlqin2yrs  RevolvingUtilizationOfUnsecuredLines            age  \\\n",
       "count     150000.000000                         150000.000000  150000.000000   \n",
       "mean           0.066840                              6.048438      52.295207   \n",
       "std            0.249746                            249.755371      14.771866   \n",
       "min            0.000000                              0.000000       0.000000   \n",
       "25%            0.000000                              0.029867      41.000000   \n",
       "50%            0.000000                              0.154181      52.000000   \n",
       "75%            0.000000                              0.559046      63.000000   \n",
       "max            1.000000                          50708.000000     109.000000   \n",
       "\n",
       "       NumberOfTime30-59DaysPastDueNotWorse      DebtRatio  MonthlyIncome  \\\n",
       "count                         150000.000000  150000.000000   1.202690e+05   \n",
       "mean                               0.421033     353.005076   6.670221e+03   \n",
       "std                                4.192781    2037.818523   1.438467e+04   \n",
       "min                                0.000000       0.000000   0.000000e+00   \n",
       "25%                                0.000000       0.175074   3.400000e+03   \n",
       "50%                                0.000000       0.366508   5.400000e+03   \n",
       "75%                                0.000000       0.868254   8.249000e+03   \n",
       "max                               98.000000  329664.000000   3.008750e+06   \n",
       "\n",
       "       NumberOfOpenCreditLinesAndLoans  NumberOfTimes90DaysLate  \\\n",
       "count                    150000.000000            150000.000000   \n",
       "mean                          8.452760                 0.265973   \n",
       "std                           5.145951                 4.169304   \n",
       "min                           0.000000                 0.000000   \n",
       "25%                           5.000000                 0.000000   \n",
       "50%                           8.000000                 0.000000   \n",
       "75%                          11.000000                 0.000000   \n",
       "max                          58.000000                98.000000   \n",
       "\n",
       "       NumberRealEstateLoansOrLines  NumberOfTime60-89DaysPastDueNotWorse  \\\n",
       "count                 150000.000000                         150000.000000   \n",
       "mean                       1.018240                              0.240387   \n",
       "std                        1.129771                              4.155179   \n",
       "min                        0.000000                              0.000000   \n",
       "25%                        0.000000                              0.000000   \n",
       "50%                        1.000000                              0.000000   \n",
       "75%                        2.000000                              0.000000   \n",
       "max                       54.000000                             98.000000   \n",
       "\n",
       "       NumberOfDependents  \n",
       "count       146076.000000  \n",
       "mean             0.757222  \n",
       "std              1.115086  \n",
       "min              0.000000  \n",
       "25%              0.000000  \n",
       "50%              0.000000  \n",
       "75%              1.000000  \n",
       "max             20.000000  "
      ]
     },
     "execution_count": 6,
     "metadata": {},
     "output_type": "execute_result"
    }
   ],
   "source": [
    "df.describe()"
   ]
  },
  {
   "cell_type": "code",
   "execution_count": 7,
   "id": "92060c47",
   "metadata": {},
   "outputs": [
    {
     "data": {
      "text/plain": [
       "SeriousDlqin2yrs                         0.000000\n",
       "RevolvingUtilizationOfUnsecuredLines     0.000000\n",
       "age                                      0.000000\n",
       "NumberOfTime30-59DaysPastDueNotWorse     0.000000\n",
       "DebtRatio                                0.000000\n",
       "MonthlyIncome                           24.720418\n",
       "NumberOfOpenCreditLinesAndLoans          0.000000\n",
       "NumberOfTimes90DaysLate                  0.000000\n",
       "NumberRealEstateLoansOrLines             0.000000\n",
       "NumberOfTime60-89DaysPastDueNotWorse     0.000000\n",
       "NumberOfDependents                       2.686273\n",
       "dtype: float64"
      ]
     },
     "execution_count": 7,
     "metadata": {},
     "output_type": "execute_result"
    }
   ],
   "source": [
    "percentage_missing_data_per_columns = (np.sum(df.isnull())*100)/df.count()\n",
    "percentage_missing_data_per_columns"
   ]
  },
  {
   "cell_type": "code",
   "execution_count": null,
   "id": "ca142cf3",
   "metadata": {},
   "outputs": [],
   "source": [
    "df.nunique()"
   ]
  },
  {
   "cell_type": "markdown",
   "id": "b770f012",
   "metadata": {},
   "source": [
    "### Observations:\n",
    "1. **MonthlyIncome** is **missing 24.72%** values.\n",
    "2. **NumberOfDependents** also **missing 2.68%** values.\n",
    "3. **Age** has a **minimum value** of **0**, which is clearly wrong. May be the data is not recorded.\n",
    "4. The description of variable **NumberOfTime30-59DaysPastDueNotWorse** is _Number of times borrower has been 30-59 days past due but no worse in the last 2 years._, but the max value for this variable is 98 which seems like a outlier. Because even if the user is defaulting every 30 days, to default 98 times, the user requires `98*30 = 2940 days`. Now, in 2 years_(from the description)_, there are only `365*2 = 730 days`.\n",
    "5. The argument in point 4 can also be given for the **NumberOfTime60-89DaysPastDueNotWorse**.\n",
    "   Least required number of days: `98*60 = 5880 days`\n",
    "   Number of days in the time period: `365*2 = 730 days`\n",
    "6. **SeriousDlqin2yrs** has only two unique values, 1 and 0."
   ]
  },
  {
   "cell_type": "markdown",
   "id": "476b21e9",
   "metadata": {},
   "source": [
    "## Check Balance/Imbalance of Data\n",
    "As we know for the data we have the **SeriousDlqin2yrs** is the target column, we can check the balance/imbalance there."
   ]
  },
  {
   "cell_type": "code",
   "execution_count": 630,
   "id": "2f5aad39",
   "metadata": {
    "scrolled": true
   },
   "outputs": [
    {
     "data": {
      "text/plain": [
       "<AxesSubplot:xlabel='SeriousDlqin2yrs', ylabel='count'>"
      ]
     },
     "execution_count": 630,
     "metadata": {},
     "output_type": "execute_result"
    },
    {
     "data": {
      "image/png": "[encoded data removed]",
      "text/plain": [
       "<Figure size 432x288 with 1 Axes>"
      ]
     },
     "metadata": {
      "needs_background": "light"
     },
     "output_type": "display_data"
    }
   ],
   "source": [
    "sns.countplot(x=df[\"SeriousDlqin2yrs\"])"
   ]
  },
  {
   "cell_type": "code",
   "execution_count": 631,
   "id": "0e994936",
   "metadata": {},
   "outputs": [
    {
     "name": "stdout",
     "output_type": "stream",
     "text": [
      "Total number of value_0: 139974\n",
      "Total number of value_1: 10026\n",
      "%value_1 in the data: 6.683999999999999%\n"
     ]
    }
   ],
   "source": [
    "value_0 = df[\"SeriousDlqin2yrs\"].value_counts()[0]\n",
    "value_1 = df[\"SeriousDlqin2yrs\"].value_counts()[1]\n",
    "print(\"Total number of value_0: {}\".format(value_0))\n",
    "print(\"Total number of value_1: {}\".format(value_1))\n",
    "print(\"%value_1 in the data: {}%\".format(value_1/(value_0 + value_1) *100))"
   ]
  },
  {
   "cell_type": "markdown",
   "id": "d2aee59d",
   "metadata": {},
   "source": [
    "> The data is highly imbalanced. Class True has only 6.68% rows in the data."
   ]
  },
  {
   "cell_type": "markdown",
   "id": "a52ffc41",
   "metadata": {},
   "source": [
    "## Correlations between variables\n",
    "This is to check the correlation between different variables present.\n",
    "If there is a strong correlation between two features, those two together in the dataset won't contribute as much. Just one of those will be enough.\n",
    "\n",
    "If there is a strong correlation between a feature and the target variable, then we should keep that feature.\n",
    "\n",
    "_Note: The strong correlation can be either positive or negative._"
   ]
  },
  {
   "cell_type": "markdown",
   "id": "87abd3da",
   "metadata": {},
   "source": [
    "_Note: The Seaborn PairPlot is taking too much time. So I am taking the below steps._"
   ]
  },
  {
   "cell_type": "code",
   "execution_count": 633,
   "id": "7f31bfd7",
   "metadata": {},
   "outputs": [
    {
     "data": {
      "text/plain": [
       "<AxesSubplot:>"
      ]
     },
     "execution_count": 633,
     "metadata": {},
     "output_type": "execute_result"
    },
    {
     "data": {
      "image/png": "[encoded data removed]",
      "text/plain": [
       "<Figure size 432x288 with 2 Axes>"
      ]
     },
     "metadata": {
      "needs_background": "light"
     },
     "output_type": "display_data"
    }
   ],
   "source": [
    "sns.heatmap(df.corr())"
   ]
  },
  {
   "cell_type": "markdown",
   "id": "41b6be6b",
   "metadata": {},
   "source": [
    "### Observations\n",
    "1. There are no strong correlations of any features with the target varible **SeriousDlqin2yrs**.\n",
    "2. The **NumberOfTime30-59DaysPastDueNotWorse**, **NumberOfTime60-89DaysPastDueNotWorse** and **NumberOfTimes90DaysLate** are highly correrelated.\n",
    "3. There is some considerable amount of correlation between **NumberOfOpenCreditLinesAndLoans** and **NumberRealEstateLoansOrLines**."
   ]
  },
  {
   "cell_type": "code",
   "execution_count": 634,
   "id": "f9beaa2d",
   "metadata": {},
   "outputs": [
    {
     "data": {
      "text/plain": [
       "<seaborn.axisgrid.JointGrid at 0x7fd957b35670>"
      ]
     },
     "execution_count": 634,
     "metadata": {},
     "output_type": "execute_result"
    },
    {
     "data": {
      "image/png": "[encoded data removed]",
      "text/plain": [
       "<Figure size 432x432 with 3 Axes>"
      ]
     },
     "metadata": {
      "needs_background": "light"
     },
     "output_type": "display_data"
    },
    {
     "data": {
      "image/png": "[encoded data removed]",
      "text/plain": [
       "<Figure size 432x432 with 3 Axes>"
      ]
     },
     "metadata": {
      "needs_background": "light"
     },
     "output_type": "display_data"
    },
    {
     "data": {
      "image/png": "[encoded data removed]",
      "text/plain": [
       "<Figure size 432x432 with 3 Axes>"
      ]
     },
     "metadata": {
      "needs_background": "light"
     },
     "output_type": "display_data"
    }
   ],
   "source": [
    "sns.jointplot(x=\"NumberOfTimes90DaysLate\", y=\"NumberOfTime30-59DaysPastDueNotWorse\", data=df)\n",
    "sns.jointplot(x=\"NumberOfTimes90DaysLate\", y=\"NumberOfTime60-89DaysPastDueNotWorse\", data=df)\n",
    "sns.jointplot(x=\"NumberOfTime30-59DaysPastDueNotWorse\", y=\"NumberOfTime60-89DaysPastDueNotWorse\", data=df)"
   ]
  },
  {
   "cell_type": "markdown",
   "id": "88175da7",
   "metadata": {},
   "source": [
    "### Observation:\n",
    "Because of the two outliers, our distribution is cornered into another corner and it is hard to see the correlation between the points. Once, we fix those two outliers in the three rows, we might be able to see the correlations better."
   ]
  },
  {
   "cell_type": "code",
   "execution_count": 635,
   "id": "8c2f1d1c",
   "metadata": {},
   "outputs": [
    {
     "data": {
      "text/plain": [
       "<seaborn.axisgrid.JointGrid at 0x7fd93fb7e7f0>"
      ]
     },
     "execution_count": 635,
     "metadata": {},
     "output_type": "execute_result"
    },
    {
     "data": {
      "image/png": "[encoded data removed]",
      "text/plain": [
       "<Figure size 432x432 with 3 Axes>"
      ]
     },
     "metadata": {
      "needs_background": "light"
     },
     "output_type": "display_data"
    }
   ],
   "source": [
    "#  NumberOfOpenCreditLinesAndLoans and NumberRealEstateLoansOrLines\n",
    "sns.jointplot(x=\"NumberOfOpenCreditLinesAndLoans\", y=\"NumberRealEstateLoansOrLines\", data=df)"
   ]
  },
  {
   "cell_type": "markdown",
   "id": "354082a4",
   "metadata": {},
   "source": [
    "### Observation\n",
    "There is hardly any strong correlation between the variables, but the one point on the far top-right corner, could be a possible outlier. But this outlier confirmation needs more context and domain knowledge."
   ]
  },
  {
   "cell_type": "markdown",
   "id": "0a697dcf",
   "metadata": {},
   "source": [
    "## Outlier Detection\n",
    "This process to find outliers in all the columns"
   ]
  },
  {
   "cell_type": "markdown",
   "id": "a1252a9f",
   "metadata": {},
   "source": [
    "### Visualizations"
   ]
  },
  {
   "cell_type": "code",
   "execution_count": 628,
   "id": "0dec7474",
   "metadata": {},
   "outputs": [
    {
     "data": {
      "text/plain": [
       "[]"
      ]
     },
     "execution_count": 628,
     "metadata": {},
     "output_type": "execute_result"
    },
    {
     "data": {
      "image/png": "[encoded data removed]",
      "text/plain": [
       "<Figure size 1440x720 with 7 Axes>"
      ]
     },
     "metadata": {
      "needs_background": "light"
     },
     "output_type": "display_data"
    }
   ],
   "source": [
    "fig, axis = plt.subplots(7,1)\n",
    "sns.boxplot(x=\"age\", ax=axis[0], data=df)\n",
    "sns.boxplot(x=\"DebtRatio\", ax=axis[1], data=df)\n",
    "sns.boxplot(x=\"NumberOfTimes90DaysLate\", ax=axis[2], data=df)\n",
    "sns.boxplot(x=\"NumberOfTime30-59DaysPastDueNotWorse\", ax=axis[3], data=df)\n",
    "sns.boxplot(x=\"NumberOfTime60-89DaysPastDueNotWorse\", ax=axis[4], data=df)\n",
    "sns.boxplot(x=\"NumberRealEstateLoansOrLines\", ax=axis[5], data=df)\n",
    "sns.boxplot(x=\"NumberOfOpenCreditLinesAndLoans\", ax=axis[6], data=df)\n",
    "fig.set_size_inches(20,10)\n",
    "plt.subplots_adjust(hspace=0.6)\n",
    "plt.plot()"
   ]
  },
  {
   "cell_type": "code",
   "execution_count": 9,
   "id": "15530b87",
   "metadata": {},
   "outputs": [
    {
     "name": "stdout",
     "output_type": "stream",
     "text": [
      "99% Percentile value for NumberRealEstateLoansOrLines is 4.0\n",
      "99% Percentile value for NumberOfOpenCreditLinesAndLoans is 24.0\n",
      "99% Percentile value for DebtRatio is 4979.040000000037\n"
     ]
    }
   ],
   "source": [
    "for col in [\"NumberRealEstateLoansOrLines\", \"NumberOfOpenCreditLinesAndLoans\", \"DebtRatio\"]:\n",
    "    print(f\"99% Percentile value for {col} is {df[col].quantile(0.99)}\")"
   ]
  },
  {
   "cell_type": "markdown",
   "id": "175a76c1",
   "metadata": {},
   "source": [
    "> We can confirm from the above graph and calculations that the following are outliers\n",
    "> 1. **age = 0**\n",
    "> 2. **NumberOfTime30-59DaysPastDueNotWorse = [96, 98]**\n",
    "> 3. **NumberOfTime60-89DaysPastDueNotWorse = [96, 98]**\n",
    "> 4. **NumberRealEstateLoansOrLines > 4**\n",
    "> 5. **NumberOfOpenCreditLinesAndLoans > 24**\n",
    "\n",
    "_Note: I have my suspicion about the **NumberOfTimes90DaysLate** too, but since, the description doesn't give a timeline for the data collection, I cannot ascertain the validity on the same ground as for **NumberOfTime30-59DaysPastDueNotWorse** and **NumberOfTime60-89DaysPastDueNotWorse**._"
   ]
  },
  {
   "cell_type": "markdown",
   "id": "ec0b2607",
   "metadata": {},
   "source": [
    "## Imputing Data\n",
    "1. Missing data\n",
    "   1. **MonthlyIncome**\n",
    "   2. **NumberOfDependents**\n",
    "2. Outliers\n",
    "   1. **age**\n",
    "   2. **NumberOfTimes90DaysLate**\n",
    "   3. **NumberOfTime60-89DaysPastDueNotWorse**\n",
    "   4. **NumberOfTime30-59DaysPastDueNotWorse**\n",
    "   5. **NumberOfOpenCreditLinesAndLoans**\n",
    "   6. **NumberRealEstateLoansOrLines**"
   ]
  },
  {
   "cell_type": "markdown",
   "id": "bdd8d178",
   "metadata": {},
   "source": [
    "1.A For **MonthlyIncome**, we can using **median** of the column.\n",
    "> Median household income is a more robust and accurate measure for summarizing income at the geographic level as compared to average household income since it is not affected by a small number of extremely high or low income outlier households.\n",
    "Ref: http://www.mbcdp.ca/blog/median-vs-average-household-income-what-is-the-difference-between-these-indicators-and-how-to-interpret-them"
   ]
  },
  {
   "cell_type": "code",
   "execution_count": 636,
   "id": "44a46967",
   "metadata": {},
   "outputs": [
    {
     "name": "stdout",
     "output_type": "stream",
     "text": [
      "Minimum Income(not 0 or null) $1.0\n",
      "Maximum Income $3008750.0\n",
      "Median Income $5400.0\n"
     ]
    }
   ],
   "source": [
    "monthly_income_counts_df = df[df['MonthlyIncome']>0][\"MonthlyIncome\"].value_counts().sort_index(ascending=True)\n",
    "median_montly_income = df['MonthlyIncome'].median()\n",
    "print(f\"Minimum Income(not 0 or null) ${monthly_income_counts_df.index.min()}\")\n",
    "print(f\"Maximum Income ${monthly_income_counts_df.index.max()}\")\n",
    "print(f\"Median Income ${median_montly_income}\")"
   ]
  },
  {
   "cell_type": "markdown",
   "id": "4c9704d9",
   "metadata": {},
   "source": [
    "> Note: The working age population in USA is 15-64. https://www.census.gov/library/stories/2020/06/working-age-population-not-keeping-pace-with-growth-in-older-americans.html\n",
    "\n",
    "1. Fix the 1 outlier age=0\n",
    "2. Divide the data into two parts, **15-64** and **64 and above**\n",
    "3. Assign the respective median incomes.\n"
   ]
  },
  {
   "cell_type": "code",
   "execution_count": 637,
   "id": "89628dc1",
   "metadata": {},
   "outputs": [],
   "source": [
    "# 1. Fixing the age=0 outlier with average age in the dataset. Since mean and median are almost similar\n",
    "df.loc[df['age'] < 18, \"age\"] = df['age'].median()\n",
    "\n",
    "# 2. Divide the data into two parts. We should be dividing it into three parts, less than 15, 15-64 and \n",
    "# greater than 64. But after the above imputation, the new minimum for age is 21. So only two groups.\n",
    "df_working_population = df.loc[df[\"age\"] <= 64]\n",
    "df_senior_population = df.loc[df[\"age\"] > 64]\n",
    "\n",
    "# 3. Finding their individual medians\n",
    "df_working_pop_income_median = df_working_population[\"MonthlyIncome\"].median()\n",
    "df_senior_pop_income_median = df_senior_population[\"MonthlyIncome\"].median()\n",
    "\n",
    "# 4. Impute the values into the original data\n",
    "df.loc[(df[\"MonthlyIncome\"].isna()) & (df[\"age\"] <= 64), \"MonthlyIncome\"] = df_working_pop_income_median\n",
    "df.loc[(df[\"MonthlyIncome\"].isna()) & (df[\"age\"] > 64), \"MonthlyIncome\"] = df_senior_pop_income_median"
   ]
  },
  {
   "cell_type": "markdown",
   "id": "8be2dfb6",
   "metadata": {},
   "source": [
    "1.B For **NumberOfDependents**, let us first see the distribution"
   ]
  },
  {
   "cell_type": "code",
   "execution_count": 638,
   "id": "03695941",
   "metadata": {},
   "outputs": [
    {
     "data": {
      "text/plain": [
       "<seaborn.axisgrid.FacetGrid at 0x7fd9897ecc40>"
      ]
     },
     "execution_count": 638,
     "metadata": {},
     "output_type": "execute_result"
    },
    {
     "data": {
      "image/png": "[encoded data removed]",
      "text/plain": [
       "<Figure size 360x360 with 1 Axes>"
      ]
     },
     "metadata": {
      "needs_background": "light"
     },
     "output_type": "display_data"
    }
   ],
   "source": [
    "sns.displot(df[\"NumberOfDependents\"])"
   ]
  },
  {
   "cell_type": "code",
   "execution_count": 639,
   "id": "e6f4e7d4",
   "metadata": {},
   "outputs": [
    {
     "name": "stdout",
     "output_type": "stream",
     "text": [
      "0.0     86902\n",
      "1.0     26316\n",
      "2.0     19522\n",
      "3.0      9483\n",
      "4.0      2862\n",
      "5.0       746\n",
      "6.0       158\n",
      "7.0        51\n",
      "8.0        24\n",
      "9.0         5\n",
      "10.0        5\n",
      "13.0        1\n",
      "20.0        1\n",
      "Name: NumberOfDependents, dtype: int64\n",
      "%Population with NumberOfDependents = 0: 59.490949916481824%\n"
     ]
    }
   ],
   "source": [
    "print(df['NumberOfDependents'].value_counts().sort_index())\n",
    "\n",
    "pop_with_zero_dependents = \\\n",
    "(df.loc[df['NumberOfDependents']==0, 'NumberOfDependents'].count()/df['NumberOfDependents'].count())*100\n",
    "\n",
    "print(f\"%Population with NumberOfDependents = 0: {pop_with_zero_dependents}%\")"
   ]
  },
  {
   "cell_type": "markdown",
   "id": "8628ee09",
   "metadata": {},
   "source": [
    "> As we can almost 60% of the population has no number of dependents, we can just assign the null values 0 there.\n"
   ]
  },
  {
   "cell_type": "code",
   "execution_count": 640,
   "id": "0a30b7ac",
   "metadata": {},
   "outputs": [],
   "source": [
    "# 1. Imputing NumberOfDependents\n",
    "df.loc[df['NumberOfDependents'].isnull(), \"NumberOfDependents\"] = df['NumberOfDependents'].mode().loc[0]"
   ]
  },
  {
   "cell_type": "code",
   "execution_count": 641,
   "id": "f01c1840",
   "metadata": {},
   "outputs": [
    {
     "name": "stdout",
     "output_type": "stream",
     "text": [
      "0.0     90826\n",
      "1.0     26316\n",
      "2.0     19522\n",
      "3.0      9483\n",
      "4.0      2862\n",
      "5.0       746\n",
      "6.0       158\n",
      "7.0        51\n",
      "8.0        24\n",
      "9.0         5\n",
      "10.0        5\n",
      "13.0        1\n",
      "20.0        1\n",
      "Name: NumberOfDependents, dtype: int64\n",
      "%Population with NumberOfDependents = 0: 60.550666666666665%\n"
     ]
    }
   ],
   "source": [
    "print(df['NumberOfDependents'].value_counts().sort_index())\n",
    "\n",
    "pop_with_zero_dependents = \\\n",
    "(df.loc[df['NumberOfDependents']==0, 'NumberOfDependents'].count()/df['NumberOfDependents'].count())*100\n",
    "\n",
    "print(f\"%Population with NumberOfDependents = 0: {pop_with_zero_dependents}%\")"
   ]
  },
  {
   "cell_type": "markdown",
   "id": "7cf29a25",
   "metadata": {},
   "source": [
    "2. For all the two outliers **NumberOfTime60-89DaysPastDueNotWorse**, and **NumberOfTime30-59DaysPastDueNotWorse**, we will first see the distribution and data values."
   ]
  },
  {
   "cell_type": "code",
   "execution_count": 642,
   "id": "d39ae51a",
   "metadata": {},
   "outputs": [
    {
     "name": "stdout",
     "output_type": "stream",
     "text": [
      "0     142396\n",
      "1       5731\n",
      "2       1118\n",
      "3        318\n",
      "4        105\n",
      "5         34\n",
      "6         16\n",
      "7          9\n",
      "8          2\n",
      "9          1\n",
      "11         1\n",
      "96         5\n",
      "98       264\n",
      "Name: NumberOfTime60-89DaysPastDueNotWorse, dtype: int64\n"
     ]
    }
   ],
   "source": [
    "print(df['NumberOfTime60-89DaysPastDueNotWorse'].value_counts().sort_index())"
   ]
  },
  {
   "cell_type": "code",
   "execution_count": 643,
   "id": "914e2f75",
   "metadata": {},
   "outputs": [
    {
     "name": "stdout",
     "output_type": "stream",
     "text": [
      "% Outlier values [96 and 98]: 0.17933333333333334\n"
     ]
    }
   ],
   "source": [
    "col = \"NumberOfTime60-89DaysPastDueNotWorse\"\n",
    "df[col].value_counts()\n",
    "\n",
    "perc_outliers = df.loc[df[col].isin([96, 98]), col].count()*100/df[col].count()\n",
    "print(f\"% Outlier values [96 and 98]: {perc_outliers}\")"
   ]
  },
  {
   "cell_type": "markdown",
   "id": "ab531302",
   "metadata": {},
   "source": [
    "> This is less than 0.2% values. And all the other values are less than 11. Again, we can go either with Median or Mode, both are 0 in this case."
   ]
  },
  {
   "cell_type": "code",
   "execution_count": 644,
   "id": "f871e6ad",
   "metadata": {},
   "outputs": [
    {
     "name": "stdout",
     "output_type": "stream",
     "text": [
      "0     126018\n",
      "1      16033\n",
      "2       4598\n",
      "3       1754\n",
      "4        747\n",
      "5        342\n",
      "6        140\n",
      "7         54\n",
      "8         25\n",
      "9         12\n",
      "10         4\n",
      "11         1\n",
      "12         2\n",
      "13         1\n",
      "96         5\n",
      "98       264\n",
      "Name: NumberOfTime30-59DaysPastDueNotWorse, dtype: int64\n"
     ]
    }
   ],
   "source": [
    "print(df['NumberOfTime30-59DaysPastDueNotWorse'].value_counts().sort_index())"
   ]
  },
  {
   "cell_type": "code",
   "execution_count": 645,
   "id": "ab4090a0",
   "metadata": {},
   "outputs": [
    {
     "name": "stdout",
     "output_type": "stream",
     "text": [
      "% Outlier values [96 and 98]: 0.17933333333333334\n"
     ]
    }
   ],
   "source": [
    "col = \"NumberOfTime30-59DaysPastDueNotWorse\"\n",
    "df[col].value_counts()\n",
    "\n",
    "perc_outliers = df.loc[df[col].isin([96, 98]), col].count()*100/df[col].count()\n",
    "print(f\"% Outlier values [96 and 98]: {perc_outliers}\")"
   ]
  },
  {
   "cell_type": "markdown",
   "id": "36d8b0dd",
   "metadata": {},
   "source": [
    "> This is less than 0.2% values. And all the other values are less than 13. Again, we can go either with Median or Mode, both are 0 in this case."
   ]
  },
  {
   "cell_type": "code",
   "execution_count": 646,
   "id": "cf996895",
   "metadata": {},
   "outputs": [],
   "source": [
    "for col in [\"NumberOfTime30-59DaysPastDueNotWorse\", \"NumberOfTime60-89DaysPastDueNotWorse\"]:\n",
    "    df.loc[df[col].isin([96, 98]), col] = df[col].median()"
   ]
  },
  {
   "cell_type": "markdown",
   "id": "16423c2d",
   "metadata": {},
   "source": [
    "#### Now let us check the distribution again for these two columns."
   ]
  },
  {
   "cell_type": "code",
   "execution_count": 647,
   "id": "2c0f8772",
   "metadata": {},
   "outputs": [
    {
     "data": {
      "text/plain": [
       "<seaborn.axisgrid.JointGrid at 0x7fd957119490>"
      ]
     },
     "execution_count": 647,
     "metadata": {},
     "output_type": "execute_result"
    },
    {
     "data": {
      "image/png": "[encoded data removed]",
      "text/plain": [
       "<Figure size 432x432 with 3 Axes>"
      ]
     },
     "metadata": {
      "needs_background": "light"
     },
     "output_type": "display_data"
    }
   ],
   "source": [
    "sns.jointplot(x=\"NumberOfTime30-59DaysPastDueNotWorse\", y=\"NumberOfTime60-89DaysPastDueNotWorse\", data=df)"
   ]
  },
  {
   "cell_type": "markdown",
   "id": "3031cc65",
   "metadata": {},
   "source": [
    "3. **For the column NumberOfTimes90DaysLate**\n",
    "    1. Let us find out age of the borrowers\n",
    "    2. Calculate the number of days required for being at least 90 days late for 96 and 98 times."
   ]
  },
  {
   "cell_type": "code",
   "execution_count": 648,
   "id": "a8dd16fb",
   "metadata": {},
   "outputs": [
    {
     "name": "stdout",
     "output_type": "stream",
     "text": [
      "Least number of years required to be at least 90 days late for 96 times: 23.671232876712327\n",
      "Least number of years required to be at least 90 days late for 96 times: 24.164383561643834\n"
     ]
    }
   ],
   "source": [
    "# 1. Let us find out age of the borrowers\n",
    "ages = df.loc[df[\"NumberOfTimes90DaysLate\"] == 96][\"age\"]\n",
    "ages = df.loc[df[\"NumberOfTimes90DaysLate\"] == 98][\"age\"]\n",
    "\n",
    "# 2. Calculate the number of days required for being at least 90 days late for 96 and 98 times.\n",
    "min_age_for_96 = (96*90)/365\n",
    "print(f\"Least number of years required to be at least 90 days late for 96 times: {min_age_for_96}\")\n",
    "\n",
    "min_age_for_98 = (98*90)/365\n",
    "print(f\"Least number of years required to be at least 90 days late for 96 times: {min_age_for_98}\")\n"
   ]
  },
  {
   "cell_type": "code",
   "execution_count": 649,
   "id": "cbca9d5e",
   "metadata": {},
   "outputs": [
    {
     "name": "stdout",
     "output_type": "stream",
     "text": [
      "% People who can default at least 96 times above 90 times: 28.62453531598513\n"
     ]
    }
   ],
   "source": [
    "qualifying_loan_age = 18\n",
    "\n",
    "defaulters_above_42 = df.loc[(df[\"age\"] >= 42) & (df[\"NumberOfTimes90DaysLate\"].isin([96, 98]))][\"age\"].count()\n",
    "defaulters_above_96_times = df.loc[df[\"NumberOfTimes90DaysLate\"].isin([96, 98])][\"age\"].count()\n",
    "\n",
    "print(f\"% People who can default at least 96 times above 90 times: \"\n",
    "      f\"{defaulters_above_42*100/defaulters_above_96_times}\")"
   ]
  },
  {
   "cell_type": "markdown",
   "id": "da12d596",
   "metadata": {},
   "source": [
    "### Observation\n",
    "The minimum age of getting a loan in USA is 18 Year old(https://www.forbes.com/advisor/personal-loans/personal-loan-requirements/). And to default at least 90 days for 96 times, the person requires to spent at least 23.67 years in crushing debt. Given, that, the person is paying some amount every 90 days. Now, if we add all this, \n",
    "    ```\n",
    "    The minimum age for defaulting 96 times: 18+23.67 = 41.67 Years\n",
    "    The minimum age for defaulting 98 times: 18+24.16 ~ 42.16 Years\n",
    "    ```\n",
    "So, the value is roughly 42 years.\n",
    "\n",
    "Now, if we take that into account, we can see, only 28.62% values are following the criteria. Which also means, the data can actually be recorded wrong. Hence, we need to impute it too."
   ]
  },
  {
   "cell_type": "code",
   "execution_count": 650,
   "id": "12e576df",
   "metadata": {},
   "outputs": [],
   "source": [
    "# 1. Impute NumberOfTimes90DaysLate same as \n",
    "# \"NumberOfTime30-59DaysPastDueNotWorse\" and \"NumberOfTime60-89DaysPastDueNotWorse\", using median\n",
    "col = \"NumberOfTimes90DaysLate\"\n",
    "df.loc[df[col].isin([96, 98]), col] = df[col].median()"
   ]
  },
  {
   "cell_type": "code",
   "execution_count": 652,
   "id": "aecd53b8",
   "metadata": {},
   "outputs": [
    {
     "data": {
      "text/html": [
       "<div>\n",
       "<style scoped>\n",
       "    .dataframe tbody tr th:only-of-type {\n",
       "        vertical-align: middle;\n",
       "    }\n",
       "\n",
       "    .dataframe tbody tr th {\n",
       "        vertical-align: top;\n",
       "    }\n",
       "\n",
       "    .dataframe thead th {\n",
       "        text-align: right;\n",
       "    }\n",
       "</style>\n",
       "<table border=\"1\" class=\"dataframe\">\n",
       "  <thead>\n",
       "    <tr style=\"text-align: right;\">\n",
       "      <th></th>\n",
       "      <th>NumberOfTime30-59DaysPastDueNotWorse</th>\n",
       "      <th>NumberOfTime60-89DaysPastDueNotWorse</th>\n",
       "      <th>NumberOfTimes90DaysLate</th>\n",
       "    </tr>\n",
       "  </thead>\n",
       "  <tbody>\n",
       "    <tr>\n",
       "      <th>NumberOfTime30-59DaysPastDueNotWorse</th>\n",
       "      <td>1.000000</td>\n",
       "      <td>0.305956</td>\n",
       "      <td>0.218233</td>\n",
       "    </tr>\n",
       "    <tr>\n",
       "      <th>NumberOfTime60-89DaysPastDueNotWorse</th>\n",
       "      <td>0.305956</td>\n",
       "      <td>1.000000</td>\n",
       "      <td>0.294684</td>\n",
       "    </tr>\n",
       "    <tr>\n",
       "      <th>NumberOfTimes90DaysLate</th>\n",
       "      <td>0.218233</td>\n",
       "      <td>0.294684</td>\n",
       "      <td>1.000000</td>\n",
       "    </tr>\n",
       "  </tbody>\n",
       "</table>\n",
       "</div>"
      ],
      "text/plain": [
       "                                      NumberOfTime30-59DaysPastDueNotWorse  \\\n",
       "NumberOfTime30-59DaysPastDueNotWorse                              1.000000   \n",
       "NumberOfTime60-89DaysPastDueNotWorse                              0.305956   \n",
       "NumberOfTimes90DaysLate                                           0.218233   \n",
       "\n",
       "                                      NumberOfTime60-89DaysPastDueNotWorse  \\\n",
       "NumberOfTime30-59DaysPastDueNotWorse                              0.305956   \n",
       "NumberOfTime60-89DaysPastDueNotWorse                              1.000000   \n",
       "NumberOfTimes90DaysLate                                           0.294684   \n",
       "\n",
       "                                      NumberOfTimes90DaysLate  \n",
       "NumberOfTime30-59DaysPastDueNotWorse                 0.218233  \n",
       "NumberOfTime60-89DaysPastDueNotWorse                 0.294684  \n",
       "NumberOfTimes90DaysLate                              1.000000  "
      ]
     },
     "execution_count": 652,
     "metadata": {},
     "output_type": "execute_result"
    }
   ],
   "source": [
    "df[[\"NumberOfTime30-59DaysPastDueNotWorse\", \n",
    "   \"NumberOfTime60-89DaysPastDueNotWorse\", \"NumberOfTimes90DaysLate\"]].corr()"
   ]
  },
  {
   "cell_type": "markdown",
   "id": "0983a055",
   "metadata": {},
   "source": [
    "### Observation\n",
    "After fixing the data, the correlation between **NumberOfTime30-59DaysPastDueNotWorse**, **NumberOfTime60-89DaysPastDueNotWorse** and **NumberOfTimes90DaysLate** has decreased significantly."
   ]
  },
  {
   "cell_type": "markdown",
   "id": "a151098e",
   "metadata": {},
   "source": [
    "4. For the columns **NumberOfOpenCreditLinesAndLoans** and **NumberRealEstateLoansOrLines**\n",
    "   1. Fix the 99% quartile value\n",
    "\n",
    "_I do not have enough knowledge or information on how to deal with this. My gut feeling is to assign the Percentile 99 value._"
   ]
  },
  {
   "cell_type": "code",
   "execution_count": 655,
   "id": "c0c41281",
   "metadata": {},
   "outputs": [],
   "source": [
    "for col in [\"NumberRealEstateLoansOrLines\", \"NumberOfOpenCreditLinesAndLoans\"]:\n",
    "    perc_99 = df[col].quantile(0.99)\n",
    "    df.loc[df[col] > perc_99, col] = perc_99"
   ]
  },
  {
   "cell_type": "code",
   "execution_count": 656,
   "id": "adb15a72",
   "metadata": {},
   "outputs": [
    {
     "data": {
      "text/plain": [
       "[]"
      ]
     },
     "execution_count": 656,
     "metadata": {},
     "output_type": "execute_result"
    },
    {
     "data": {
      "image/png": "[encoded data removed]",
      "text/plain": [
       "<Figure size 1440x720 with 7 Axes>"
      ]
     },
     "metadata": {
      "needs_background": "light"
     },
     "output_type": "display_data"
    }
   ],
   "source": [
    "fig, axis = plt.subplots(7,1)\n",
    "sns.boxplot(x=\"age\", ax=axis[0], data=df)\n",
    "sns.boxplot(x=\"DebtRatio\", ax=axis[1], data=df)\n",
    "sns.boxplot(x=\"NumberOfTimes90DaysLate\", ax=axis[2], data=df)\n",
    "sns.boxplot(x=\"NumberOfTime30-59DaysPastDueNotWorse\", ax=axis[3], data=df)\n",
    "sns.boxplot(x=\"NumberOfTime60-89DaysPastDueNotWorse\", ax=axis[4], data=df)\n",
    "sns.boxplot(x=\"NumberRealEstateLoansOrLines\", ax=axis[5], data=df)\n",
    "sns.boxplot(x=\"NumberOfOpenCreditLinesAndLoans\", ax=axis[6], data=df)\n",
    "fig.set_size_inches(20,10)\n",
    "plt.subplots_adjust(hspace=0.6)\n",
    "plt.plot()"
   ]
  },
  {
   "cell_type": "markdown",
   "id": "be882de0",
   "metadata": {},
   "source": [
    "## Feature Engineering"
   ]
  },
  {
   "cell_type": "code",
   "execution_count": 557,
   "id": "e053fd0e",
   "metadata": {},
   "outputs": [],
   "source": [
    "# def bucketing_credit_utilisation(x):\n",
    "# #     if x <= 100:\n",
    "# #         return \"Within Limits\"\n",
    "# #     else:\n",
    "# #         return \"Out of Limits\"\n",
    "#     max_p = 4\n",
    "#     category = \"Less than {}\"\n",
    "#     for p in range(1, max_p):\n",
    "#         if x < 10**p:\n",
    "#             return category.format(10**p)\n",
    "#     else: return f\"More than {10**(max_p-1)}\"\n",
    "    \n",
    "# df[\"categorized_credit_utilization\"] = df[\"RevolvingUtilizationOfUnsecuredLines\"].apply(\n",
    "#     lambda x: bucketing_credit_utilisation(x))"
   ]
  },
  {
   "cell_type": "code",
   "execution_count": 558,
   "id": "e257d019",
   "metadata": {},
   "outputs": [],
   "source": [
    "# sns.countplot(data=df, hue=\"categorized_credit_utilization\", x=\"SeriousDlqin2yrs\")"
   ]
  },
  {
   "cell_type": "code",
   "execution_count": 559,
   "id": "60da943a",
   "metadata": {},
   "outputs": [],
   "source": [
    "# col = \"categorized_credit_utilization\"\n",
    "# for value in df[col].unique():\n",
    "#     total_in_value = df[col].loc[df[col] == value].count()\n",
    "#     total_deliquent_in_value = df[col].loc[(df[col] == value) & (df[\"SeriousDlqin2yrs\"] == 1)].count()\n",
    "#     print(f\"% of Delinquents in category: {value} is {total_deliquent_in_value*100/total_in_value}%\")"
   ]
  },
  {
   "cell_type": "markdown",
   "id": "9dbf06ee",
   "metadata": {},
   "source": [
    "1. We can add all the PastDue columns(**NumberOfTime30-59DaysPastDueNotWorse**, **NumberOfTime60-89DaysPastDueNotWorse** and **NumberOfTimes90DaysLate**) and create a new one.\n",
    "2. We can add both the **NumberOfOpenCreditLinesAndLoans** and **NumberRealEstateLoansOrLines** and a create a new one."
   ]
  },
  {
   "cell_type": "code",
   "execution_count": 560,
   "id": "787b1ae5",
   "metadata": {},
   "outputs": [],
   "source": [
    "# 1\n",
    "df[\"TotalPastDue\"] = df[\"NumberOfTime30-59DaysPastDueNotWorse\"] + df[\"NumberOfTime60-89DaysPastDueNotWorse\"]\n",
    "+ df[\"NumberOfTimes90DaysLate\"]\n",
    "\n",
    "# 2\n",
    "df[\"TotalOpenCreditLines\"] = df[\"NumberOfOpenCreditLinesAndLoans\"] + df[\"NumberRealEstateLoansOrLines\"]"
   ]
  },
  {
   "cell_type": "code",
   "execution_count": 561,
   "id": "8e88159e",
   "metadata": {},
   "outputs": [
    {
     "data": {
      "text/html": [
       "<div>\n",
       "<style scoped>\n",
       "    .dataframe tbody tr th:only-of-type {\n",
       "        vertical-align: middle;\n",
       "    }\n",
       "\n",
       "    .dataframe tbody tr th {\n",
       "        vertical-align: top;\n",
       "    }\n",
       "\n",
       "    .dataframe thead th {\n",
       "        text-align: right;\n",
       "    }\n",
       "</style>\n",
       "<table border=\"1\" class=\"dataframe\">\n",
       "  <thead>\n",
       "    <tr style=\"text-align: right;\">\n",
       "      <th></th>\n",
       "      <th>SeriousDlqin2yrs</th>\n",
       "      <th>TotalOpenCreditLines</th>\n",
       "      <th>TotalPastDue</th>\n",
       "    </tr>\n",
       "  </thead>\n",
       "  <tbody>\n",
       "    <tr>\n",
       "      <th>count</th>\n",
       "      <td>150000.000000</td>\n",
       "      <td>150000.000000</td>\n",
       "      <td>150000.000000</td>\n",
       "    </tr>\n",
       "    <tr>\n",
       "      <th>mean</th>\n",
       "      <td>0.066840</td>\n",
       "      <td>9.471000</td>\n",
       "      <td>0.310060</td>\n",
       "    </tr>\n",
       "    <tr>\n",
       "      <th>std</th>\n",
       "      <td>0.249746</td>\n",
       "      <td>5.727394</td>\n",
       "      <td>0.857668</td>\n",
       "    </tr>\n",
       "    <tr>\n",
       "      <th>min</th>\n",
       "      <td>0.000000</td>\n",
       "      <td>0.000000</td>\n",
       "      <td>0.000000</td>\n",
       "    </tr>\n",
       "    <tr>\n",
       "      <th>25%</th>\n",
       "      <td>0.000000</td>\n",
       "      <td>5.000000</td>\n",
       "      <td>0.000000</td>\n",
       "    </tr>\n",
       "    <tr>\n",
       "      <th>50%</th>\n",
       "      <td>0.000000</td>\n",
       "      <td>9.000000</td>\n",
       "      <td>0.000000</td>\n",
       "    </tr>\n",
       "    <tr>\n",
       "      <th>75%</th>\n",
       "      <td>0.000000</td>\n",
       "      <td>13.000000</td>\n",
       "      <td>0.000000</td>\n",
       "    </tr>\n",
       "    <tr>\n",
       "      <th>max</th>\n",
       "      <td>1.000000</td>\n",
       "      <td>112.000000</td>\n",
       "      <td>15.000000</td>\n",
       "    </tr>\n",
       "  </tbody>\n",
       "</table>\n",
       "</div>"
      ],
      "text/plain": [
       "       SeriousDlqin2yrs  TotalOpenCreditLines   TotalPastDue\n",
       "count     150000.000000         150000.000000  150000.000000\n",
       "mean           0.066840              9.471000       0.310060\n",
       "std            0.249746              5.727394       0.857668\n",
       "min            0.000000              0.000000       0.000000\n",
       "25%            0.000000              5.000000       0.000000\n",
       "50%            0.000000              9.000000       0.000000\n",
       "75%            0.000000             13.000000       0.000000\n",
       "max            1.000000            112.000000      15.000000"
      ]
     },
     "execution_count": 561,
     "metadata": {},
     "output_type": "execute_result"
    }
   ],
   "source": [
    "df[[\"SeriousDlqin2yrs\", \"TotalOpenCreditLines\", \"TotalPastDue\"]].describe()"
   ]
  },
  {
   "cell_type": "code",
   "execution_count": 562,
   "id": "13168c24",
   "metadata": {},
   "outputs": [
    {
     "data": {
      "text/html": [
       "<div>\n",
       "<style scoped>\n",
       "    .dataframe tbody tr th:only-of-type {\n",
       "        vertical-align: middle;\n",
       "    }\n",
       "\n",
       "    .dataframe tbody tr th {\n",
       "        vertical-align: top;\n",
       "    }\n",
       "\n",
       "    .dataframe thead th {\n",
       "        text-align: right;\n",
       "    }\n",
       "</style>\n",
       "<table border=\"1\" class=\"dataframe\">\n",
       "  <thead>\n",
       "    <tr style=\"text-align: right;\">\n",
       "      <th></th>\n",
       "      <th>SeriousDlqin2yrs</th>\n",
       "      <th>TotalOpenCreditLines</th>\n",
       "      <th>TotalPastDue</th>\n",
       "    </tr>\n",
       "  </thead>\n",
       "  <tbody>\n",
       "    <tr>\n",
       "      <th>SeriousDlqin2yrs</th>\n",
       "      <td>1.000000</td>\n",
       "      <td>-0.028045</td>\n",
       "      <td>0.322766</td>\n",
       "    </tr>\n",
       "    <tr>\n",
       "      <th>TotalOpenCreditLines</th>\n",
       "      <td>-0.028045</td>\n",
       "      <td>1.000000</td>\n",
       "      <td>0.057141</td>\n",
       "    </tr>\n",
       "    <tr>\n",
       "      <th>TotalPastDue</th>\n",
       "      <td>0.322766</td>\n",
       "      <td>0.057141</td>\n",
       "      <td>1.000000</td>\n",
       "    </tr>\n",
       "  </tbody>\n",
       "</table>\n",
       "</div>"
      ],
      "text/plain": [
       "                      SeriousDlqin2yrs  TotalOpenCreditLines  TotalPastDue\n",
       "SeriousDlqin2yrs              1.000000             -0.028045      0.322766\n",
       "TotalOpenCreditLines         -0.028045              1.000000      0.057141\n",
       "TotalPastDue                  0.322766              0.057141      1.000000"
      ]
     },
     "execution_count": 562,
     "metadata": {},
     "output_type": "execute_result"
    }
   ],
   "source": [
    "df[[\"SeriousDlqin2yrs\", \"TotalOpenCreditLines\", \"TotalPastDue\"]].corr()"
   ]
  },
  {
   "cell_type": "code",
   "execution_count": 563,
   "id": "db423756",
   "metadata": {},
   "outputs": [
    {
     "data": {
      "text/plain": [
       "SeriousDlqin2yrs                          int64\n",
       "RevolvingUtilizationOfUnsecuredLines    float64\n",
       "age                                       int64\n",
       "NumberOfTime30-59DaysPastDueNotWorse      int64\n",
       "DebtRatio                               float64\n",
       "MonthlyIncome                           float64\n",
       "NumberOfOpenCreditLinesAndLoans           int64\n",
       "NumberOfTimes90DaysLate                   int64\n",
       "NumberRealEstateLoansOrLines              int64\n",
       "NumberOfTime60-89DaysPastDueNotWorse      int64\n",
       "NumberOfDependents                      float64\n",
       "TotalPastDue                              int64\n",
       "TotalOpenCreditLines                      int64\n",
       "dtype: object"
      ]
     },
     "execution_count": 563,
     "metadata": {},
     "output_type": "execute_result"
    }
   ],
   "source": [
    "# Fixing data type of the NumberOfDependents\n",
    "df[\"NumberOfDependents\"].astype(\"Int64\")\n",
    "\n",
    "df.dtypes"
   ]
  },
  {
   "cell_type": "markdown",
   "id": "d4504763",
   "metadata": {},
   "source": [
    "## Final Words:\n",
    "1. The data is highly imbalanced.\n",
    "2. All the datatypes are matching the intended/required schema.\n",
    "3. The **age=0** outlier was fixed by the median of the column.\n",
    "4. The **MonthlyIncome** null values are imputed with median of the column, segregated by _Working Population (age<=64)_ and _Non Working Population(age>=64)_.\n",
    "5. **NumberOfDependents** null values are imputed with mode of the column.\n",
    "6. The outliers values for **NumberOfTime30-59DaysPastDueNotWorse**, **NumberOfTime60-89DaysPastDueNotWorse** and **NumberOfTimes90DaysLate** were _96_ and _98_, which were replaced by the median of the respective columns.\n",
    "7. For the columns **NumberOfOpenCreditLinesAndLoans** and **NumberRealEstateLoansOrLines**, any outlier beyond 99% quartile\n",
    "8. Two new features are generated,\n",
    "   1. Sum of all the PastDues\n",
    "   2. Sum of all the Credit Lines and Loans\n",
    "   "
   ]
  },
  {
   "cell_type": "code",
   "execution_count": null,
   "id": "c5c14d59",
   "metadata": {},
   "outputs": [],
   "source": []
  }
 ],
 "metadata": {
  "kernelspec": {
   "display_name": "Python 3",
   "language": "python",
   "name": "python3"
  },
  "language_info": {
   "codemirror_mode": {
    "name": "ipython",
    "version": 3
   },
   "file_extension": ".py",
   "mimetype": "text/x-python",
   "name": "python",
   "nbconvert_exporter": "python",
   "pygments_lexer": "ipython3",
   "version": "3.8.8"
  }
 },
 "nbformat": 4,
 "nbformat_minor": 5
}
